{
 "cells": [
  {
   "cell_type": "markdown",
   "metadata": {},
   "source": [
    "Looking at Ground Transportation at Oakland International Airport\n",
    "---\n",
    "\n",
    "Comparing Transportation Network Companies (TNC's) like Uber and Lyft to more traditional services like limousines, charters, shuttles, etc.\n",
    "\n",
    "Initial hypothesis: \n",
    "\n",
    "---The increasing popularity of TNC's will cause a decrease in demand for all other types of Ground Transportation\n",
    "\n",
    "Initial takeaways: \n",
    "\n",
    "--- Most services do see a general decline over the past year.\n",
    "--- Certain services however, such as off-airport parking and hotel services, don't seem to be affected by TNC's. It's possible that the effect of TNC's is offset by the consistent growth Oakland Airport has seen over the past five years (in addition to other factors).\n"
   ]
  },
  {
   "cell_type": "code",
   "execution_count": 1,
   "metadata": {
    "scrolled": true
   },
   "outputs": [
    {
     "name": "stdout",
     "output_type": "stream",
     "text": [
      "Done\n"
     ]
    }
   ],
   "source": [
    "import numpy as np\n",
    "import pandas as pd\n",
    "from datetime import datetime\n",
    "import matplotlib.pyplot as plt\n",
    "\n",
    "#Import all CSV files containing trip data for ground transportation\n",
    "#tenants at Oakland Airport\n",
    "\n",
    "#TNC files (Lyft and Uber)\n",
    "\n",
    "TNC_file_1 = '17.1101-17.1231 Raw TNC Data.csv'\n",
    "TNC_file_2 = '18.0101-18.0115 Raw TNC Data.csv'\n",
    "TNC_file_3 = '18.0116-18.0131 Raw TNC Data.csv'\n",
    "TNC_file_4 = '18.0201-18.0228 Raw TNC Data.csv'\n",
    "TNC_file_5 = '18.0301-18.0315 Raw TNC Data.csv'\n",
    "TNC_file_6 = '18.0316-18.0331 Raw TNC Data.csv'\n",
    "TNC_file_7 = '18.0401-18.0415 Raw TNC Data.csv'\n",
    "TNC_file_8 = '18.0416-18.0430 Raw TNC Data.csv'\n",
    "TNC_file_9 = '18.0501-18.0515 Raw TNC Data.csv'\n",
    "TNC_file_10 = '18.0516-18.0531 Raw TNC Data.csv'\n",
    "TNC_file_11 = '18.0601-18.0615 Raw TNC Data.csv'\n",
    "TNC_file_12 = '18.0616-18.0630 Raw TNC Data.csv'\n",
    "TNC_file_13 = '18.0701-18.0715 Raw TNC Data.csv'\n",
    "TNC_file_14 = '18.0716-18.0731 Raw TNC Data.csv'\n",
    "TNC_file_15 = '18.0801-18.0815 Raw TNC Data.csv'\n",
    "TNC_file_16 = '18.0816-18.0831 Raw TNC Data.csv'\n",
    "TNC_file_17 = '18.0901-18.0915 Raw TNC Data.csv'\n",
    "TNC_file_18 = '18.0916-18.0930 Raw TNC Data.csv'\n",
    "TNC_file_19 = '18.1001-18.1015 Raw TNC Data.csv'\n",
    "TNC_file_20 = '18.1016-18.1031 Raw TNC Data.csv'\n",
    "TNC_file_21 = '18.1101-18.1130 Raw TNC Data.csv'\n",
    "TNC_file_22 = '18.1201-18.1231 Raw TNC Data.csv'\n",
    "TNC_file_23 = '19.0101-19.0131 Raw TNC Data.csv'\n",
    "TNC_file_24 = '19.0201-19.0228 Raw TNC Data.csv'\n",
    "TNC_file_25 = '19.0301-19.0331 Raw TNC Data.csv'\n",
    "TNC_file_26 = '19.0401-19.0430 Raw TNC Data.csv'\n",
    "\n",
    "TNC_Data_Nov17toDec17 = pd.read_csv(TNC_file_1)\n",
    "TNC_Data_Jan18_1 = pd.read_csv(TNC_file_2)\n",
    "TNC_Data_Jan18_2 = pd.read_csv(TNC_file_3)\n",
    "TNC_Data_Feb18 = pd.read_csv(TNC_file_4)\n",
    "TNC_Data_Mar18_1 = pd.read_csv(TNC_file_5)\n",
    "TNC_Data_Mar18_2 = pd.read_csv(TNC_file_6)\n",
    "TNC_Data_Apr18_1 = pd.read_csv(TNC_file_7)\n",
    "TNC_Data_Apr18_2 = pd.read_csv(TNC_file_8)\n",
    "TNC_Data_May18_1 = pd.read_csv(TNC_file_9)\n",
    "TNC_Data_May18_2 = pd.read_csv(TNC_file_10)\n",
    "TNC_Data_Jun18_1 = pd.read_csv(TNC_file_11)\n",
    "TNC_Data_Jun18_2 = pd.read_csv(TNC_file_12)\n",
    "TNC_Data_Jul18_1 = pd.read_csv(TNC_file_13)\n",
    "TNC_Data_Jul18_2 = pd.read_csv(TNC_file_14)\n",
    "TNC_Data_Aug18_1 = pd.read_csv(TNC_file_15)\n",
    "TNC_Data_Aug18_2 = pd.read_csv(TNC_file_16)\n",
    "TNC_Data_Sep18_1 = pd.read_csv(TNC_file_17)\n",
    "TNC_Data_Sep18_2 = pd.read_csv(TNC_file_18)\n",
    "TNC_Data_Oct18_1 = pd.read_csv(TNC_file_19)\n",
    "TNC_Data_Oct18_2 = pd.read_csv(TNC_file_20)\n",
    "TNC_Data_Nov18 = pd.read_csv(TNC_file_21)\n",
    "TNC_Data_Dec18 = pd.read_csv(TNC_file_22)\n",
    "TNC_Data_Jan19 = pd.read_csv(TNC_file_23)\n",
    "TNC_Data_Feb19 = pd.read_csv(TNC_file_24)\n",
    "TNC_Data_Mar19 = pd.read_csv(TNC_file_25)\n",
    "TNC_Data_Apr19 = pd.read_csv(TNC_file_26)\n",
    "\n",
    "\n",
    "#All other tenant modes (trips recorded by limos, charters, shuttles, \n",
    "#scheduled buses, taxis, etc.)\n",
    "\n",
    "Other_Tenants_file_1 = '01.18-06.18 Other Modes Raw Data.csv'\n",
    "Other_Tenants_file_2 = '07.18-09.18 Other Modes Raw Data.csv'\n",
    "Other_Tenants_file_3 = '10.18-12.18 Other Modes Raw Data.csv'\n",
    "Other_Tenants_file_4 = '01.19-04.19 Other Modes Raw Data.csv'\n",
    "\n",
    "Other_Tenants_Data_Jan18toJun18 = pd.read_csv(Other_Tenants_file_1)\n",
    "Other_Tenants_Data_Jul18toSep18 = pd.read_csv(Other_Tenants_file_2)\n",
    "Other_Tenants_Data_Oct18toDec18 = pd.read_csv(Other_Tenants_file_3)\n",
    "Other_Tenants_Data_Jan19toApr19 = pd.read_csv(Other_Tenants_file_4)\n",
    "\n",
    "print('Done')"
   ]
  },
  {
   "cell_type": "code",
   "execution_count": 2,
   "metadata": {},
   "outputs": [
    {
     "name": "stdout",
     "output_type": "stream",
     "text": [
      "Done\n"
     ]
    }
   ],
   "source": [
    "#Concatenate all TNC files into one data frame\n",
    "\n",
    "tnc_df = pd.concat([TNC_Data_Nov17toDec17, TNC_Data_Jan18_1, TNC_Data_Jan18_2, TNC_Data_Feb18, TNC_Data_Mar18_1, TNC_Data_Mar18_2, TNC_Data_Apr18_1, TNC_Data_Apr18_2, TNC_Data_May18_1, TNC_Data_May18_2, TNC_Data_Jun18_1, TNC_Data_Jun18_2, TNC_Data_Jul18_1, TNC_Data_Jul18_2, TNC_Data_Aug18_1, TNC_Data_Aug18_2, TNC_Data_Sep18_1, TNC_Data_Sep18_2, TNC_Data_Oct18_1, TNC_Data_Oct18_2, TNC_Data_Nov18, TNC_Data_Dec18, TNC_Data_Jan19, TNC_Data_Feb19, TNC_Data_Mar19, TNC_Data_Apr19])\n",
    "\n",
    "#Concatenate all \"Other Modes\" files into one data frame\n",
    "\n",
    "other_modes_df = pd.concat([Other_Tenants_Data_Jan18toJun18, Other_Tenants_Data_Jul18toSep18, Other_Tenants_Data_Oct18toDec18, Other_Tenants_Data_Jan19toApr19])\n",
    "\n",
    "print('Done')\n"
   ]
  },
  {
   "cell_type": "code",
   "execution_count": 3,
   "metadata": {},
   "outputs": [
    {
     "data": {
      "text/html": [
       "<div>\n",
       "<style scoped>\n",
       "    .dataframe tbody tr th:only-of-type {\n",
       "        vertical-align: middle;\n",
       "    }\n",
       "\n",
       "    .dataframe tbody tr th {\n",
       "        vertical-align: top;\n",
       "    }\n",
       "\n",
       "    .dataframe thead th {\n",
       "        text-align: right;\n",
       "    }\n",
       "</style>\n",
       "<table border=\"1\" class=\"dataframe\">\n",
       "  <thead>\n",
       "    <tr style=\"text-align: right;\">\n",
       "      <th></th>\n",
       "      <th>Date</th>\n",
       "      <th>Textbox56</th>\n",
       "      <th>Textbox7</th>\n",
       "      <th>Textbox48</th>\n",
       "      <th>Textbox53</th>\n",
       "    </tr>\n",
       "  </thead>\n",
       "  <tbody>\n",
       "    <tr>\n",
       "      <th>0</th>\n",
       "      <td>11/17/17</td>\n",
       "      <td>12:32:55</td>\n",
       "      <td>Airport Entry</td>\n",
       "      <td>Lyft 7NDA439</td>\n",
       "      <td>Lyft</td>\n",
       "    </tr>\n",
       "    <tr>\n",
       "      <th>1</th>\n",
       "      <td>11/17/17</td>\n",
       "      <td>12:32:56</td>\n",
       "      <td>Airport Entry</td>\n",
       "      <td>Lyft 7ZCC565</td>\n",
       "      <td>Lyft</td>\n",
       "    </tr>\n",
       "    <tr>\n",
       "      <th>2</th>\n",
       "      <td>11/17/17</td>\n",
       "      <td>12:32:56</td>\n",
       "      <td>Airport Entry</td>\n",
       "      <td>Lyft 7ZWP760</td>\n",
       "      <td>Lyft</td>\n",
       "    </tr>\n",
       "  </tbody>\n",
       "</table>\n",
       "</div>"
      ],
      "text/plain": [
       "       Date Textbox56       Textbox7     Textbox48 Textbox53\n",
       "0  11/17/17  12:32:55  Airport Entry  Lyft 7NDA439      Lyft\n",
       "1  11/17/17  12:32:56  Airport Entry  Lyft 7ZCC565      Lyft\n",
       "2  11/17/17  12:32:56  Airport Entry  Lyft 7ZWP760      Lyft"
      ]
     },
     "execution_count": 3,
     "metadata": {},
     "output_type": "execute_result"
    }
   ],
   "source": [
    "#Delete irrelevant rows (duplicate date, car ID, report info, etc.)\n",
    "\n",
    "del tnc_df[\"Textbox32\"]\n",
    "del tnc_df[\"Textbox2\"]\n",
    "del tnc_df[\"Textbox43\"]\n",
    "del tnc_df[\"Textbox27\"]\n",
    "del tnc_df[\"Textbox28\"]\n",
    "\n",
    "del other_modes_df[\"Textbox2\"]\n",
    "del other_modes_df[\"Textbox43\"]\n",
    "del other_modes_df[\"Textbox27\"]\n",
    "del other_modes_df[\"Textbox28\"]\n",
    "\n",
    "tnc_df.head(3)"
   ]
  },
  {
   "cell_type": "code",
   "execution_count": 4,
   "metadata": {},
   "outputs": [
    {
     "name": "stdout",
     "output_type": "stream",
     "text": [
      "Done\n"
     ]
    }
   ],
   "source": [
    "#Convert date to datetime\n",
    "\n",
    "tnc_df['Date'] = pd.to_datetime(tnc_df['Date'])\n",
    "other_modes_df['Date'] = pd.to_datetime(other_modes_df['Date'])\n",
    "\n",
    "#Switch index to datetime column\n",
    "\n",
    "tnc_df.set_index(\"Date\", inplace = True)\n",
    "other_modes_df.set_index(\"Date\", inplace = True)\n",
    "\n",
    "print('Done')"
   ]
  },
  {
   "cell_type": "code",
   "execution_count": 23,
   "metadata": {},
   "outputs": [
    {
     "data": {
      "text/html": [
       "<div>\n",
       "<style scoped>\n",
       "    .dataframe tbody tr th:only-of-type {\n",
       "        vertical-align: middle;\n",
       "    }\n",
       "\n",
       "    .dataframe tbody tr th {\n",
       "        vertical-align: top;\n",
       "    }\n",
       "\n",
       "    .dataframe thead th {\n",
       "        text-align: right;\n",
       "    }\n",
       "</style>\n",
       "<table border=\"1\" class=\"dataframe\">\n",
       "  <thead>\n",
       "    <tr style=\"text-align: right;\">\n",
       "      <th></th>\n",
       "      <th>Time</th>\n",
       "      <th>Trip Type</th>\n",
       "      <th>Vehicle</th>\n",
       "      <th>Tenant Type</th>\n",
       "    </tr>\n",
       "    <tr>\n",
       "      <th>Date</th>\n",
       "      <th></th>\n",
       "      <th></th>\n",
       "      <th></th>\n",
       "      <th></th>\n",
       "    </tr>\n",
       "  </thead>\n",
       "  <tbody>\n",
       "    <tr>\n",
       "      <th>2019-04-30</th>\n",
       "      <td>23:58:09</td>\n",
       "      <td>Airport Entry</td>\n",
       "      <td>Fast Track Airport Parking, Inc 3</td>\n",
       "      <td>Off-Airport</td>\n",
       "    </tr>\n",
       "    <tr>\n",
       "      <th>2019-04-30</th>\n",
       "      <td>23:58:25</td>\n",
       "      <td>Airport Entry</td>\n",
       "      <td>VIP Airport Parking 07</td>\n",
       "      <td>Off-Airport</td>\n",
       "    </tr>\n",
       "    <tr>\n",
       "      <th>2019-04-30</th>\n",
       "      <td>23:59:57</td>\n",
       "      <td>Airport Entry</td>\n",
       "      <td>Fly 'N Save dba Park a Car 95</td>\n",
       "      <td>Off-Airport</td>\n",
       "    </tr>\n",
       "  </tbody>\n",
       "</table>\n",
       "</div>"
      ],
      "text/plain": [
       "                Time      Trip Type                            Vehicle  \\\n",
       "Date                                                                     \n",
       "2019-04-30  23:58:09  Airport Entry  Fast Track Airport Parking, Inc 3   \n",
       "2019-04-30  23:58:25  Airport Entry             VIP Airport Parking 07   \n",
       "2019-04-30  23:59:57  Airport Entry      Fly 'N Save dba Park a Car 95   \n",
       "\n",
       "            Tenant Type  \n",
       "Date                     \n",
       "2019-04-30  Off-Airport  \n",
       "2019-04-30  Off-Airport  \n",
       "2019-04-30  Off-Airport  "
      ]
     },
     "execution_count": 23,
     "metadata": {},
     "output_type": "execute_result"
    }
   ],
   "source": [
    "#Change column names to accurately describe the data\n",
    "\n",
    "tnc_df.columns = ['Time', 'Trip Type', 'Vehicle', 'Tenant Name']\n",
    "other_modes_df.columns = ['Time', 'Trip Type', 'Vehicle', 'Tenant Type']\n",
    "\n",
    "other_modes_df.tail(3)\n"
   ]
  },
  {
   "cell_type": "code",
   "execution_count": 7,
   "metadata": {},
   "outputs": [
    {
     "name": "stdout",
     "output_type": "stream",
     "text": [
      "0\n",
      "0\n"
     ]
    }
   ],
   "source": [
    "#Verify total number of missing values is zero\n",
    "\n",
    "print(np.count_nonzero(tnc_df.isnull()))\n",
    "print(np.count_nonzero(other_modes_df.isnull()))"
   ]
  },
  {
   "cell_type": "code",
   "execution_count": 32,
   "metadata": {},
   "outputs": [
    {
     "data": {
      "text/html": [
       "<div>\n",
       "<style scoped>\n",
       "    .dataframe tbody tr th:only-of-type {\n",
       "        vertical-align: middle;\n",
       "    }\n",
       "\n",
       "    .dataframe tbody tr th {\n",
       "        vertical-align: top;\n",
       "    }\n",
       "\n",
       "    .dataframe thead th {\n",
       "        text-align: right;\n",
       "    }\n",
       "</style>\n",
       "<table border=\"1\" class=\"dataframe\">\n",
       "  <thead>\n",
       "    <tr style=\"text-align: right;\">\n",
       "      <th></th>\n",
       "      <th>Time</th>\n",
       "      <th>Trip Type</th>\n",
       "      <th>Vehicle</th>\n",
       "      <th>Tenant Type</th>\n",
       "    </tr>\n",
       "    <tr>\n",
       "      <th>Date</th>\n",
       "      <th></th>\n",
       "      <th></th>\n",
       "      <th></th>\n",
       "      <th></th>\n",
       "    </tr>\n",
       "  </thead>\n",
       "  <tbody>\n",
       "    <tr>\n",
       "      <th>2018-03-23</th>\n",
       "      <td>7:35:09</td>\n",
       "      <td>Airport Entry</td>\n",
       "      <td>Fast Track Airport Parking, Inc</td>\n",
       "      <td>Off-Airport</td>\n",
       "    </tr>\n",
       "    <tr>\n",
       "      <th>2018-03-23</th>\n",
       "      <td>7:35:20</td>\n",
       "      <td>Airport Entry</td>\n",
       "      <td>Oakland Airport Executive Hotel 1</td>\n",
       "      <td>Hotel</td>\n",
       "    </tr>\n",
       "    <tr>\n",
       "      <th>2018-03-23</th>\n",
       "      <td>7:37:37</td>\n",
       "      <td>Airport Entry</td>\n",
       "      <td>Expresso Airport Parking</td>\n",
       "      <td>Off-Airport</td>\n",
       "    </tr>\n",
       "    <tr>\n",
       "      <th>2018-03-23</th>\n",
       "      <td>7:38:58</td>\n",
       "      <td>Airport Entry</td>\n",
       "      <td>Concept Matrix</td>\n",
       "      <td>Limousine</td>\n",
       "    </tr>\n",
       "    <tr>\n",
       "      <th>2018-03-23</th>\n",
       "      <td>7:40:08</td>\n",
       "      <td>Airport Entry</td>\n",
       "      <td>Hampton Inn &amp; Suits Alameda</td>\n",
       "      <td>Hotel</td>\n",
       "    </tr>\n",
       "    <tr>\n",
       "      <th>2018-03-23</th>\n",
       "      <td>7:42:38</td>\n",
       "      <td>Airport Entry</td>\n",
       "      <td>Fast Track Airport Parking, Inc</td>\n",
       "      <td>Off-Airport</td>\n",
       "    </tr>\n",
       "    <tr>\n",
       "      <th>2018-03-23</th>\n",
       "      <td>7:45:51</td>\n",
       "      <td>Airport Entry</td>\n",
       "      <td>Hilton Oakland Airport 13</td>\n",
       "      <td>Hotel</td>\n",
       "    </tr>\n",
       "    <tr>\n",
       "      <th>2018-03-23</th>\n",
       "      <td>7:45:54</td>\n",
       "      <td>Airport Entry</td>\n",
       "      <td>Radisson Hotel Oakland Airport 1</td>\n",
       "      <td>Hotel</td>\n",
       "    </tr>\n",
       "    <tr>\n",
       "      <th>2018-03-23</th>\n",
       "      <td>7:47:57</td>\n",
       "      <td>Airport Entry</td>\n",
       "      <td>Expresso Airport Parking</td>\n",
       "      <td>Off-Airport</td>\n",
       "    </tr>\n",
       "    <tr>\n",
       "      <th>2018-03-23</th>\n",
       "      <td>7:49:16</td>\n",
       "      <td>Airport Entry</td>\n",
       "      <td>Park N' Fly</td>\n",
       "      <td>Off-Airport</td>\n",
       "    </tr>\n",
       "  </tbody>\n",
       "</table>\n",
       "</div>"
      ],
      "text/plain": [
       "               Time      Trip Type                            Vehicle  \\\n",
       "Date                                                                    \n",
       "2018-03-23  7:35:09  Airport Entry    Fast Track Airport Parking, Inc   \n",
       "2018-03-23  7:35:20  Airport Entry  Oakland Airport Executive Hotel 1   \n",
       "2018-03-23  7:37:37  Airport Entry           Expresso Airport Parking   \n",
       "2018-03-23  7:38:58  Airport Entry                     Concept Matrix   \n",
       "2018-03-23  7:40:08  Airport Entry        Hampton Inn & Suits Alameda   \n",
       "2018-03-23  7:42:38  Airport Entry    Fast Track Airport Parking, Inc   \n",
       "2018-03-23  7:45:51  Airport Entry          Hilton Oakland Airport 13   \n",
       "2018-03-23  7:45:54  Airport Entry   Radisson Hotel Oakland Airport 1   \n",
       "2018-03-23  7:47:57  Airport Entry           Expresso Airport Parking   \n",
       "2018-03-23  7:49:16  Airport Entry                        Park N' Fly   \n",
       "\n",
       "            Tenant Type  \n",
       "Date                     \n",
       "2018-03-23  Off-Airport  \n",
       "2018-03-23        Hotel  \n",
       "2018-03-23  Off-Airport  \n",
       "2018-03-23    Limousine  \n",
       "2018-03-23        Hotel  \n",
       "2018-03-23  Off-Airport  \n",
       "2018-03-23        Hotel  \n",
       "2018-03-23        Hotel  \n",
       "2018-03-23  Off-Airport  \n",
       "2018-03-23  Off-Airport  "
      ]
     },
     "execution_count": 32,
     "metadata": {},
     "output_type": "execute_result"
    }
   ],
   "source": [
    "#Looking at Airport Entry only for non-TNC tenant modes (ignore exits \n",
    "#right now)\n",
    "\n",
    "om_entry_only_df = other_modes_df.loc[other_modes_df.loc[:, 'Trip Type'] == 'Airport Entry',]\n",
    "om_entry_only_df.head(10)\n"
   ]
  },
  {
   "cell_type": "code",
   "execution_count": 85,
   "metadata": {},
   "outputs": [
    {
     "data": {
      "text/plain": [
       "(2824,)"
      ]
     },
     "execution_count": 85,
     "metadata": {},
     "output_type": "execute_result"
    }
   ],
   "source": [
    "#Group data by tenant type for each day (i.e. sum the number of\n",
    "#trips per tenant type per day)\n",
    "\n",
    "grouped_om_tenants_df = om_entry_only_df.groupby(['Date','Tenant Type']).size()\n",
    "grouped_om_tenants_df.shape\n",
    "\n",
    "\n",
    "#grouped_om_tenants_sumdf = grouped_om_tenants.aggregate(np.sum)\n",
    "#del grouped_om_tenants_sumdf['Time']\n",
    "#del grouped_om_tenants_sumdf['Trip Type']\n",
    "#grouped_om_tenants_sumdf.head(14)"
   ]
  },
  {
   "cell_type": "code",
   "execution_count": 80,
   "metadata": {},
   "outputs": [
    {
     "name": "stdout",
     "output_type": "stream",
     "text": [
      "5\n"
     ]
    }
   ],
   "source": []
  },
  {
   "cell_type": "code",
   "execution_count": 84,
   "metadata": {},
   "outputs": [
    {
     "data": {
      "text/plain": [
       "Text(0, 0.5, 'Number of Trips per Day')"
      ]
     },
     "execution_count": 84,
     "metadata": {},
     "output_type": "execute_result"
    },
    {
     "data": {
      "image/png": "[encoded data removed]",
      "text/plain": [
       "<Figure size 432x288 with 1 Axes>"
      ]
     },
     "metadata": {
      "needs_background": "light"
     },
     "output_type": "display_data"
    }
   ],
   "source": [
    "grouped_om_tenants_df.plot()\n",
    "plt.title('Daily Trips for Various Ground Transportation Services')\n",
    "plt.xlabel('Date')\n",
    "plt.ylabel('Number of Trips per Day')"
   ]
  },
  {
   "cell_type": "code",
   "execution_count": null,
   "metadata": {},
   "outputs": [],
   "source": []
  }
 ],
 "metadata": {
  "kernelspec": {
   "display_name": "Python 3",
   "language": "python",
   "name": "python3"
  },
  "language_info": {
   "codemirror_mode": {
    "name": "ipython",
    "version": 3
   },
   "file_extension": ".py",
   "mimetype": "text/x-python",
   "name": "python",
   "nbconvert_exporter": "python",
   "pygments_lexer": "ipython3",
   "version": "3.7.1"
  }
 },
 "nbformat": 4,
 "nbformat_minor": 2
}
